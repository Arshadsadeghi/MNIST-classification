{
 "cells": [
  {
   "cell_type": "code",
   "execution_count": 58,
   "id": "b1f6a508",
   "metadata": {},
   "outputs": [],
   "source": [
    "#import library\n",
    "from keras import *"
   ]
  },
  {
   "cell_type": "code",
   "execution_count": 59,
   "id": "106f7ec2",
   "metadata": {},
   "outputs": [],
   "source": [
    "#load data\n",
    "from keras.datasets import mnist\n",
    "(xtrain, ytrain),(xtest, ytest)=mnist.load_data()"
   ]
  },
  {
   "cell_type": "code",
   "execution_count": 60,
   "id": "e2423c2b",
   "metadata": {},
   "outputs": [],
   "source": [
    "#reshape data\n",
    "xtrain=xtrain.reshape((60000,28,28,1))\n",
    "xtrain=xtrain.astype('float32')/255\n",
    "\n",
    "xtest=xtest.reshape((10000,28,28,1))\n",
    "xtest=xtest.astype('float32')/255\n"
   ]
  },
  {
   "cell_type": "code",
   "execution_count": 61,
   "id": "70e54279",
   "metadata": {},
   "outputs": [
    {
     "name": "stdout",
     "output_type": "stream",
     "text": [
      "ytrain.shape: (60000, 10)\n",
      "xtrain.shape: (60000, 28, 28, 1)\n"
     ]
    }
   ],
   "source": [
    "ytrain=to_categorical(ytrain)\n",
    "ytest=to_categorical(ytest)\n",
    "print('ytrain.shape:', ytrain.shape)\n",
    "print('xtrain.shape:', xtrain.shape)"
   ]
  },
  {
   "cell_type": "code",
   "execution_count": 62,
   "id": "e2cb57fa",
   "metadata": {},
   "outputs": [],
   "source": [
    "# build a Conv 2D model\n",
    "model = Sequential()\n",
    "model.add(layers.Conv2D( 32, (3,3), activation='relu', input_shape=(28,28,1) ))\n",
    "model.add(layers.MaxPooling2D((2,2)))\n",
    "model.add(layers.Conv2D( 64, (3,3), activation='relu'))\n",
    "model.add(layers.MaxPooling2D((2,2)))\n",
    "model.add(layers.Conv2D( 64, (3,3), activation='relu'))\n"
   ]
  },
  {
   "cell_type": "code",
   "execution_count": 63,
   "id": "99c6a70f",
   "metadata": {},
   "outputs": [],
   "source": [
    "#Convert to 1D\n",
    "model.add(layers.Flatten())\n",
    "model.add(layers.Dense(64, activation='relu'))\n",
    "model.add(layers.Dense(10, activation='softmax'))"
   ]
  },
  {
   "cell_type": "code",
   "execution_count": 64,
   "id": "61069465",
   "metadata": {},
   "outputs": [],
   "source": [
    "# Compile\n",
    "model.compile( optimizer='rmsprop', loss='categorical_crossentropy', metrics=['accuracy'] )"
   ]
  },
  {
   "cell_type": "code",
   "execution_count": 65,
   "id": "27ee5e8a",
   "metadata": {},
   "outputs": [
    {
     "name": "stdout",
     "output_type": "stream",
     "text": [
      "Model: \"sequential_5\"\n",
      "_________________________________________________________________\n",
      " Layer (type)                Output Shape              Param #   \n",
      "=================================================================\n",
      " conv2d_6 (Conv2D)           (None, 26, 26, 32)        320       \n",
      "                                                                 \n",
      " max_pooling2d_4 (MaxPooling  (None, 13, 13, 32)       0         \n",
      " 2D)                                                             \n",
      "                                                                 \n",
      " conv2d_7 (Conv2D)           (None, 11, 11, 64)        18496     \n",
      "                                                                 \n",
      " max_pooling2d_5 (MaxPooling  (None, 5, 5, 64)         0         \n",
      " 2D)                                                             \n",
      "                                                                 \n",
      " conv2d_8 (Conv2D)           (None, 3, 3, 64)          36928     \n",
      "                                                                 \n",
      " flatten_2 (Flatten)         (None, 576)               0         \n",
      "                                                                 \n",
      " dense_10 (Dense)            (None, 64)                36928     \n",
      "                                                                 \n",
      " dense_11 (Dense)            (None, 10)                650       \n",
      "                                                                 \n",
      "=================================================================\n",
      "Total params: 93,322\n",
      "Trainable params: 93,322\n",
      "Non-trainable params: 0\n",
      "_________________________________________________________________\n"
     ]
    }
   ],
   "source": [
    "#Model summary\n",
    "model.summary()"
   ]
  },
  {
   "cell_type": "code",
   "execution_count": 66,
   "id": "5ac0cda2",
   "metadata": {},
   "outputs": [
    {
     "name": "stdout",
     "output_type": "stream",
     "text": [
      "Epoch 1/3\n",
      "6000/6000 [==============================] - 43s 7ms/step - loss: 0.1194 - accuracy: 0.9635\n",
      "Epoch 2/3\n",
      "6000/6000 [==============================] - 41s 7ms/step - loss: 0.0525 - accuracy: 0.9857\n",
      "Epoch 3/3\n",
      "6000/6000 [==============================] - 43s 7ms/step - loss: 0.0497 - accuracy: 0.9870\n"
     ]
    }
   ],
   "source": [
    "#Fit Model\n",
    "history = model.fit(xtrain, ytrain, epochs=3,batch_size=10)"
   ]
  },
  {
   "cell_type": "code",
   "execution_count": 68,
   "id": "f8234a89",
   "metadata": {},
   "outputs": [
    {
     "name": "stdout",
     "output_type": "stream",
     "text": [
      "313/313 [==============================] - 2s 5ms/step - loss: 0.0523 - accuracy: 0.9876\n",
      "Model accuracy:  0.9876000285148621\n",
      "Model loss:  0.05227185785770416\n"
     ]
    }
   ],
   "source": [
    "#Model accuracy \n",
    "test_loss, test_acc = model.evaluate(xtest, ytest)\n",
    "print('Model accuracy: ', test_acc)\n",
    "print(\"Model loss: \", test_loss)"
   ]
  }
 ],
 "metadata": {
  "kernelspec": {
   "display_name": "Python 3 (ipykernel)",
   "language": "python",
   "name": "python3"
  },
  "language_info": {
   "codemirror_mode": {
    "name": "ipython",
    "version": 3
   },
   "file_extension": ".py",
   "mimetype": "text/x-python",
   "name": "python",
   "nbconvert_exporter": "python",
   "pygments_lexer": "ipython3",
   "version": "3.9.7"
  }
 },
 "nbformat": 4,
 "nbformat_minor": 5
}
